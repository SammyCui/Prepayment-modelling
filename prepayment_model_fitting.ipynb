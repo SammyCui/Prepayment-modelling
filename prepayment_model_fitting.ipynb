{
 "cells": [
  {
   "cell_type": "code",
   "execution_count": 1,
   "id": "403d8bd8",
   "metadata": {},
   "outputs": [],
   "source": [
    "import pandas as pd\n",
    "import numpy as np\n",
    "import matplotlib.pyplot as plt\n",
    "import seaborn as sns\n",
    "import os\n",
    "import sys\n",
    "import sklearn\n",
    "from sklearn.feature_selection import SelectKBest, chi2, f_regression\n",
    "from sklearn.ensemble import RandomForestClassifier, AdaBoostClassifier\n",
    "from sklearn.model_selection import cross_val_score\n",
    "from sklearn.model_selection import train_test_split\n",
    "from sklearn.metrics import roc_curve\n",
    "from sklearn.metrics import roc_auc_score\n",
    "from sklearn.model_selection import GridSearchCV, RandomizedSearchCV\n",
    "from sklearn.metrics import confusion_matrix, ConfusionMatrixDisplay\n",
    "import scikitplot as skplt\n",
    "import xgboost as xgb\n",
    "from scipy.stats import uniform, randint\n",
    "from sklearn.model_selection import StratifiedKFold\n",
    "from logitreg.logitreg import charts as ch, iv, lreg\n",
    "import scorecardpy\n",
    "from sklearn.linear_model import LogisticRegression\n",
    "from sklearn.linear_model import RidgeClassifier\n",
    "from sklearn import preprocessing\n",
    "from sklearn.svm import SVC\n",
    "from sklearn.tree import DecisionTreeClassifier\n",
    "from sklearn.model_selection import validation_curve, learning_curve\n",
    "from sklearn.metrics import plot_confusion_matrix, plot_roc_curve, plot_precision_recall_curve, auc, classification_report\n",
    "from mdl_evaluation_plots import *\n",
    "import statsmodels.api as sm\n",
    "\n",
    "\n",
    "\n",
    "%matplotlib inline"
   ]
  },
  {
   "cell_type": "code",
   "execution_count": 3,
   "id": "a71e5894",
   "metadata": {},
   "outputs": [],
   "source": [
    "def round_sig(x, N=2):\n",
    "    \"\"\"\n",
    "    round to N significant digits\n",
    "    :param x: input\n",
    "    :param N: # of digits\n",
    "    :return:\n",
    "    \"\"\"\n",
    "\n",
    "    if np.floor(np.log10(abs(x))) == np.inf:\n",
    "        # -1 for invalid zero division.\n",
    "        return -1\n",
    "\n",
    "    return 0 if x == 0 else round(x, N - int(np.floor(np.log10(abs(x)))))"
   ]
  },
  {
   "cell_type": "code",
   "execution_count": 2,
   "id": "c790eaf0",
   "metadata": {},
   "outputs": [
    {
     "data": {
      "text/html": [
       "<div>\n",
       "<style scoped>\n",
       "    .dataframe tbody tr th:only-of-type {\n",
       "        vertical-align: middle;\n",
       "    }\n",
       "\n",
       "    .dataframe tbody tr th {\n",
       "        vertical-align: top;\n",
       "    }\n",
       "\n",
       "    .dataframe thead th {\n",
       "        text-align: right;\n",
       "    }\n",
       "</style>\n",
       "<table border=\"1\" class=\"dataframe\">\n",
       "  <thead>\n",
       "    <tr style=\"text-align: right;\">\n",
       "      <th></th>\n",
       "      <th>close_bal</th>\n",
       "      <th>wala</th>\n",
       "      <th>issuer</th>\n",
       "      <th>init_rate</th>\n",
       "      <th>mba_prev</th>\n",
       "      <th>mba_prev2</th>\n",
       "      <th>mba_prev6</th>\n",
       "      <th>ltv</th>\n",
       "      <th>cltv</th>\n",
       "      <th>fico_bucket</th>\n",
       "      <th>geo</th>\n",
       "      <th>cd_servicer</th>\n",
       "      <th>FEDFUNDS</th>\n",
       "      <th>factor_month</th>\n",
       "      <th>close_month</th>\n",
       "      <th>month_mod</th>\n",
       "      <th>occ_bucket_investor</th>\n",
       "      <th>purp_bucket_Cash Out</th>\n",
       "      <th>purp_bucket_Refi</th>\n",
       "      <th>doc_type_BankSt</th>\n",
       "      <th>doc_type_Foreign</th>\n",
       "      <th>doc_type_Full</th>\n",
       "      <th>doc_type_Investor</th>\n",
       "      <th>cd_mstr_servicer_Nationstar</th>\n",
       "      <th>cd_mstr_servicer_SPS</th>\n",
       "      <th>cd_mstr_servicer_Wells Fargo</th>\n",
       "      <th>covid_flag_Y</th>\n",
       "      <th>is_prepay</th>\n",
       "    </tr>\n",
       "  </thead>\n",
       "  <tbody>\n",
       "    <tr>\n",
       "      <th>0</th>\n",
       "      <td>179393.36</td>\n",
       "      <td>10</td>\n",
       "      <td>0.032008</td>\n",
       "      <td>0.00</td>\n",
       "      <td>0.029148</td>\n",
       "      <td>0.029996</td>\n",
       "      <td>0.022196</td>\n",
       "      <td>27.69</td>\n",
       "      <td>25.444079</td>\n",
       "      <td>4.0</td>\n",
       "      <td>0.030373</td>\n",
       "      <td>0.027853</td>\n",
       "      <td>0.41</td>\n",
       "      <td>11</td>\n",
       "      <td>7</td>\n",
       "      <td>0</td>\n",
       "      <td>1.0</td>\n",
       "      <td>0.0</td>\n",
       "      <td>0.0</td>\n",
       "      <td>1.0</td>\n",
       "      <td>0.0</td>\n",
       "      <td>0.0</td>\n",
       "      <td>0.0</td>\n",
       "      <td>0.0</td>\n",
       "      <td>0.0</td>\n",
       "      <td>0.0</td>\n",
       "      <td>0.0</td>\n",
       "      <td>0</td>\n",
       "    </tr>\n",
       "    <tr>\n",
       "      <th>1</th>\n",
       "      <td>272195.79</td>\n",
       "      <td>34</td>\n",
       "      <td>0.024720</td>\n",
       "      <td>5.99</td>\n",
       "      <td>0.029148</td>\n",
       "      <td>0.029996</td>\n",
       "      <td>0.022196</td>\n",
       "      <td>75.00</td>\n",
       "      <td>61.521906</td>\n",
       "      <td>2.0</td>\n",
       "      <td>0.030373</td>\n",
       "      <td>0.027853</td>\n",
       "      <td>0.06</td>\n",
       "      <td>5</td>\n",
       "      <td>1</td>\n",
       "      <td>0</td>\n",
       "      <td>1.0</td>\n",
       "      <td>0.0</td>\n",
       "      <td>0.0</td>\n",
       "      <td>0.0</td>\n",
       "      <td>0.0</td>\n",
       "      <td>0.0</td>\n",
       "      <td>1.0</td>\n",
       "      <td>0.0</td>\n",
       "      <td>0.0</td>\n",
       "      <td>0.0</td>\n",
       "      <td>0.0</td>\n",
       "      <td>0</td>\n",
       "    </tr>\n",
       "    <tr>\n",
       "      <th>2</th>\n",
       "      <td>323407.43</td>\n",
       "      <td>19</td>\n",
       "      <td>0.020420</td>\n",
       "      <td>5.25</td>\n",
       "      <td>0.029148</td>\n",
       "      <td>0.029996</td>\n",
       "      <td>0.031888</td>\n",
       "      <td>65.00</td>\n",
       "      <td>48.506555</td>\n",
       "      <td>4.0</td>\n",
       "      <td>0.031530</td>\n",
       "      <td>0.027853</td>\n",
       "      <td>2.13</td>\n",
       "      <td>8</td>\n",
       "      <td>2</td>\n",
       "      <td>0</td>\n",
       "      <td>0.0</td>\n",
       "      <td>0.0</td>\n",
       "      <td>0.0</td>\n",
       "      <td>1.0</td>\n",
       "      <td>0.0</td>\n",
       "      <td>0.0</td>\n",
       "      <td>0.0</td>\n",
       "      <td>0.0</td>\n",
       "      <td>0.0</td>\n",
       "      <td>0.0</td>\n",
       "      <td>0.0</td>\n",
       "      <td>0</td>\n",
       "    </tr>\n",
       "    <tr>\n",
       "      <th>3</th>\n",
       "      <td>216414.00</td>\n",
       "      <td>21</td>\n",
       "      <td>0.024720</td>\n",
       "      <td>6.55</td>\n",
       "      <td>0.029148</td>\n",
       "      <td>0.029996</td>\n",
       "      <td>0.031888</td>\n",
       "      <td>57.60</td>\n",
       "      <td>51.790911</td>\n",
       "      <td>3.0</td>\n",
       "      <td>0.024654</td>\n",
       "      <td>0.027853</td>\n",
       "      <td>2.04</td>\n",
       "      <td>9</td>\n",
       "      <td>4</td>\n",
       "      <td>0</td>\n",
       "      <td>1.0</td>\n",
       "      <td>0.0</td>\n",
       "      <td>1.0</td>\n",
       "      <td>0.0</td>\n",
       "      <td>0.0</td>\n",
       "      <td>0.0</td>\n",
       "      <td>1.0</td>\n",
       "      <td>0.0</td>\n",
       "      <td>0.0</td>\n",
       "      <td>0.0</td>\n",
       "      <td>0.0</td>\n",
       "      <td>0</td>\n",
       "    </tr>\n",
       "    <tr>\n",
       "      <th>4</th>\n",
       "      <td>245865.99</td>\n",
       "      <td>15</td>\n",
       "      <td>0.022184</td>\n",
       "      <td>6.75</td>\n",
       "      <td>0.029148</td>\n",
       "      <td>0.029996</td>\n",
       "      <td>0.031888</td>\n",
       "      <td>59.52</td>\n",
       "      <td>54.422491</td>\n",
       "      <td>3.0</td>\n",
       "      <td>0.030373</td>\n",
       "      <td>0.027853</td>\n",
       "      <td>1.55</td>\n",
       "      <td>12</td>\n",
       "      <td>4</td>\n",
       "      <td>0</td>\n",
       "      <td>0.0</td>\n",
       "      <td>0.0</td>\n",
       "      <td>0.0</td>\n",
       "      <td>1.0</td>\n",
       "      <td>0.0</td>\n",
       "      <td>0.0</td>\n",
       "      <td>0.0</td>\n",
       "      <td>0.0</td>\n",
       "      <td>0.0</td>\n",
       "      <td>0.0</td>\n",
       "      <td>0.0</td>\n",
       "      <td>0</td>\n",
       "    </tr>\n",
       "  </tbody>\n",
       "</table>\n",
       "</div>"
      ],
      "text/plain": [
       "   close_bal  wala    issuer  init_rate  mba_prev  mba_prev2  mba_prev6    ltv       cltv  fico_bucket       geo  cd_servicer  FEDFUNDS  factor_month  close_month  month_mod  occ_bucket_investor  purp_bucket_Cash Out  purp_bucket_Refi  doc_type_BankSt  doc_type_Foreign  doc_type_Full  doc_type_Investor  \\\n",
       "0  179393.36    10  0.032008       0.00  0.029148   0.029996   0.022196  27.69  25.444079          4.0  0.030373     0.027853      0.41            11            7          0                  1.0                   0.0               0.0              1.0               0.0            0.0                0.0   \n",
       "1  272195.79    34  0.024720       5.99  0.029148   0.029996   0.022196  75.00  61.521906          2.0  0.030373     0.027853      0.06             5            1          0                  1.0                   0.0               0.0              0.0               0.0            0.0                1.0   \n",
       "2  323407.43    19  0.020420       5.25  0.029148   0.029996   0.031888  65.00  48.506555          4.0  0.031530     0.027853      2.13             8            2          0                  0.0                   0.0               0.0              1.0               0.0            0.0                0.0   \n",
       "3  216414.00    21  0.024720       6.55  0.029148   0.029996   0.031888  57.60  51.790911          3.0  0.024654     0.027853      2.04             9            4          0                  1.0                   0.0               1.0              0.0               0.0            0.0                1.0   \n",
       "4  245865.99    15  0.022184       6.75  0.029148   0.029996   0.031888  59.52  54.422491          3.0  0.030373     0.027853      1.55            12            4          0                  0.0                   0.0               0.0              1.0               0.0            0.0                0.0   \n",
       "\n",
       "   cd_mstr_servicer_Nationstar  cd_mstr_servicer_SPS  cd_mstr_servicer_Wells Fargo  covid_flag_Y  is_prepay  \n",
       "0                          0.0                   0.0                           0.0           0.0          0  \n",
       "1                          0.0                   0.0                           0.0           0.0          0  \n",
       "2                          0.0                   0.0                           0.0           0.0          0  \n",
       "3                          0.0                   0.0                           0.0           0.0          0  \n",
       "4                          0.0                   0.0                           0.0           0.0          0  "
      ]
     },
     "metadata": {},
     "output_type": "display_data"
    },
    {
     "data": {
      "text/plain": [
       "(823408, 28)"
      ]
     },
     "metadata": {},
     "output_type": "display_data"
    }
   ],
   "source": [
    "import pickle\n",
    "df = pickle.load( open( \"data_cleaned.pkl\", \"rb\" ) )\n",
    "display(df.head())\n",
    "display(df.shape)"
   ]
  },
  {
   "cell_type": "code",
   "execution_count": 9,
   "id": "b6cdcf5a",
   "metadata": {},
   "outputs": [],
   "source": [
    "import joblib\n",
    "df_full = joblib.load('prepay_data.pkl')"
   ]
  },
  {
   "cell_type": "code",
   "execution_count": 3,
   "id": "e31cb922",
   "metadata": {},
   "outputs": [],
   "source": [
    "y_var = 'is_prepay'\n",
    "X = df.drop(y_var, axis = 1)\n",
    "y = df[y_var]"
   ]
  },
  {
   "cell_type": "code",
   "execution_count": 4,
   "id": "70a9dadf",
   "metadata": {},
   "outputs": [
    {
     "data": {
      "text/plain": [
       "0.028731807317878864"
      ]
     },
     "execution_count": 4,
     "metadata": {},
     "output_type": "execute_result"
    }
   ],
   "source": [
    "df[y_var].sum()/len(df)"
   ]
  },
  {
   "cell_type": "code",
   "execution_count": 5,
   "id": "1d02964a",
   "metadata": {},
   "outputs": [
    {
     "data": {
      "text/plain": [
       "((551683, 27), (271725, 27), (551683,), (271725,))"
      ]
     },
     "execution_count": 5,
     "metadata": {},
     "output_type": "execute_result"
    }
   ],
   "source": [
    "# split into train and test data\n",
    "X_train, X_test, y_train, y_test = train_test_split(X, y, test_size=0.33, random_state=42)\n",
    "X_train.shape, X_test.shape, y_train.shape, y_test.shape"
   ]
  },
  {
   "cell_type": "markdown",
   "id": "512818a1",
   "metadata": {},
   "source": [
    "### Start with core attributes and LR"
   ]
  },
  {
   "cell_type": "code",
   "execution_count": 7,
   "id": "8f9262eb",
   "metadata": {},
   "outputs": [
    {
     "name": "stdout",
     "output_type": "stream",
     "text": [
      "lr_doc:  0.5242027785444843\n",
      "lr_fico:  0.42545956389732265\n",
      "lr_wala:  0.6543895482565093\n",
      "lr_ltv:  0.4973484221179501\n"
     ]
    }
   ],
   "source": [
    "doc_Type = [i for i in X_train.columns if 'doc' in i]\n",
    "lr_doc = LogisticRegression(class_weight='balanced')\n",
    "lr_doc.fit(X_train[doc_Type], y_train)\n",
    "print('lr_doc: ',  lr_doc.score(X_test[doc_Type], y_test))\n",
    "\n",
    "lr_fico = LogisticRegression(class_weight='balanced')\n",
    "lr_fico.fit(np.reshape(X_train['fico_bucket'].values,(-1,1)), y_train)\n",
    "print('lr_fico: ',  lr_fico.score(np.reshape(X_test['fico_bucket'].values,(-1,1)), y_test))\n",
    "\n",
    "lr_wala = LogisticRegression(class_weight='balanced')\n",
    "lr_wala.fit(np.reshape(X_train['wala'].values,(-1,1)), y_train)\n",
    "print('lr_wala: ',  lr_wala.score(np.reshape(X_test['wala'].values,(-1,1)), y_test))\n",
    "\n",
    "lr_ltv = LogisticRegression(class_weight='balanced')\n",
    "lr_ltv.fit(np.reshape(X_train['ltv'].values,(-1,1)), y_train)\n",
    "print('lr_ltv: ',  lr_ltv.score(np.reshape(X_test['ltv'].values,(-1,1)), y_test))"
   ]
  },
  {
   "cell_type": "markdown",
   "id": "67efc685",
   "metadata": {},
   "source": [
    "#### Document type"
   ]
  },
  {
   "cell_type": "code",
   "execution_count": 30,
   "id": "4331e3cd",
   "metadata": {},
   "outputs": [
    {
     "data": {
      "text/html": [
       "<div>\n",
       "<style scoped>\n",
       "    .dataframe tbody tr th:only-of-type {\n",
       "        vertical-align: middle;\n",
       "    }\n",
       "\n",
       "    .dataframe tbody tr th {\n",
       "        vertical-align: top;\n",
       "    }\n",
       "\n",
       "    .dataframe thead th {\n",
       "        text-align: right;\n",
       "    }\n",
       "</style>\n",
       "<table border=\"1\" class=\"dataframe\">\n",
       "  <thead>\n",
       "    <tr style=\"text-align: right;\">\n",
       "      <th></th>\n",
       "      <th>doc_type_BankSt</th>\n",
       "      <th>doc_type_Foreign</th>\n",
       "      <th>doc_type_Full</th>\n",
       "      <th>doc_type_Investor</th>\n",
       "    </tr>\n",
       "  </thead>\n",
       "  <tbody>\n",
       "    <tr>\n",
       "      <th>0</th>\n",
       "      <td>1.0</td>\n",
       "      <td>0.0</td>\n",
       "      <td>0.0</td>\n",
       "      <td>0.0</td>\n",
       "    </tr>\n",
       "    <tr>\n",
       "      <th>1</th>\n",
       "      <td>0.0</td>\n",
       "      <td>0.0</td>\n",
       "      <td>0.0</td>\n",
       "      <td>1.0</td>\n",
       "    </tr>\n",
       "    <tr>\n",
       "      <th>2</th>\n",
       "      <td>1.0</td>\n",
       "      <td>0.0</td>\n",
       "      <td>0.0</td>\n",
       "      <td>0.0</td>\n",
       "    </tr>\n",
       "    <tr>\n",
       "      <th>3</th>\n",
       "      <td>0.0</td>\n",
       "      <td>0.0</td>\n",
       "      <td>0.0</td>\n",
       "      <td>1.0</td>\n",
       "    </tr>\n",
       "    <tr>\n",
       "      <th>4</th>\n",
       "      <td>1.0</td>\n",
       "      <td>0.0</td>\n",
       "      <td>0.0</td>\n",
       "      <td>0.0</td>\n",
       "    </tr>\n",
       "    <tr>\n",
       "      <th>...</th>\n",
       "      <td>...</td>\n",
       "      <td>...</td>\n",
       "      <td>...</td>\n",
       "      <td>...</td>\n",
       "    </tr>\n",
       "    <tr>\n",
       "      <th>823403</th>\n",
       "      <td>1.0</td>\n",
       "      <td>0.0</td>\n",
       "      <td>0.0</td>\n",
       "      <td>0.0</td>\n",
       "    </tr>\n",
       "    <tr>\n",
       "      <th>823404</th>\n",
       "      <td>0.0</td>\n",
       "      <td>0.0</td>\n",
       "      <td>0.0</td>\n",
       "      <td>1.0</td>\n",
       "    </tr>\n",
       "    <tr>\n",
       "      <th>823405</th>\n",
       "      <td>0.0</td>\n",
       "      <td>0.0</td>\n",
       "      <td>1.0</td>\n",
       "      <td>0.0</td>\n",
       "    </tr>\n",
       "    <tr>\n",
       "      <th>823406</th>\n",
       "      <td>0.0</td>\n",
       "      <td>0.0</td>\n",
       "      <td>0.0</td>\n",
       "      <td>1.0</td>\n",
       "    </tr>\n",
       "    <tr>\n",
       "      <th>823407</th>\n",
       "      <td>0.0</td>\n",
       "      <td>0.0</td>\n",
       "      <td>1.0</td>\n",
       "      <td>0.0</td>\n",
       "    </tr>\n",
       "  </tbody>\n",
       "</table>\n",
       "<p>823408 rows × 4 columns</p>\n",
       "</div>"
      ],
      "text/plain": [
       "        doc_type_BankSt  doc_type_Foreign  doc_type_Full  doc_type_Investor\n",
       "0                   1.0               0.0            0.0                0.0\n",
       "1                   0.0               0.0            0.0                1.0\n",
       "2                   1.0               0.0            0.0                0.0\n",
       "3                   0.0               0.0            0.0                1.0\n",
       "4                   1.0               0.0            0.0                0.0\n",
       "...                 ...               ...            ...                ...\n",
       "823403              1.0               0.0            0.0                0.0\n",
       "823404              0.0               0.0            0.0                1.0\n",
       "823405              0.0               0.0            1.0                0.0\n",
       "823406              0.0               0.0            0.0                1.0\n",
       "823407              0.0               0.0            1.0                0.0\n",
       "\n",
       "[823408 rows x 4 columns]"
      ]
     },
     "execution_count": 30,
     "metadata": {},
     "output_type": "execute_result"
    }
   ],
   "source": [
    "df[doc_Type]"
   ]
  },
  {
   "cell_type": "code",
   "execution_count": 15,
   "id": "a9058892",
   "metadata": {},
   "outputs": [
    {
     "name": "stdout",
     "output_type": "stream",
     "text": [
      "Optimization terminated successfully.\n",
      "         Current function value: 0.191169\n",
      "         Iterations 8\n"
     ]
    },
    {
     "data": {
      "text/plain": [
       "doc_type_BankSt     -3.621785\n",
       "doc_type_Foreign    -4.404685\n",
       "doc_type_Full       -3.310960\n",
       "doc_type_Investor   -3.950918\n",
       "dtype: float64"
      ]
     },
     "execution_count": 15,
     "metadata": {},
     "output_type": "execute_result"
    }
   ],
   "source": [
    "lr_doc = sm.Logit(y_train.values.reshape(-1,1), X_train[doc_Type])\n",
    "result_doc=lr_doc.fit()\n",
    "result_doc.params"
   ]
  },
  {
   "cell_type": "code",
   "execution_count": 16,
   "id": "6f5f3f87",
   "metadata": {},
   "outputs": [
    {
     "name": "stdout",
     "output_type": "stream",
     "text": [
      "doc_type_BankSt 0.026038777415470126\n",
      "doc_type_Foreign 0.012072434607645692\n",
      "doc_type_Full 0.03519709390800548\n",
      "doc_type_Investor 0.018873952471062758\n"
     ]
    }
   ],
   "source": [
    "for i,v in result_doc.params.items():\n",
    "    print(i, 1/(1 + np.exp(-v)))"
   ]
  },
  {
   "cell_type": "markdown",
   "id": "295b40ca",
   "metadata": {},
   "source": [
    "#### wala"
   ]
  },
  {
   "cell_type": "code",
   "execution_count": 53,
   "id": "75582b28",
   "metadata": {},
   "outputs": [
    {
     "data": {
      "image/png": "[encoded data removed]",
      "text/plain": [
       "<Figure size 432x288 with 1 Axes>"
      ]
     },
     "metadata": {
      "needs_background": "light"
     },
     "output_type": "display_data"
    }
   ],
   "source": [
    "plt.hist(df['wala'].loc[df[y_var] == 1].dropna())\n",
    "plt.show()"
   ]
  },
  {
   "cell_type": "code",
   "execution_count": 41,
   "id": "aeafb7b5",
   "metadata": {},
   "outputs": [
    {
     "name": "stdout",
     "output_type": "stream",
     "text": [
      "Optimization terminated successfully.\n",
      "         Current function value: 0.204230\n",
      "         Iterations 8\n"
     ]
    },
    {
     "data": {
      "text/plain": [
       "wala   -0.200964\n",
       "dtype: float64"
      ]
     },
     "execution_count": 41,
     "metadata": {},
     "output_type": "execute_result"
    }
   ],
   "source": [
    "lr_wala = sm.Logit(df[y_var], df['wala'])\n",
    "result_wala=lr_wala.fit()\n",
    "result_wala.params"
   ]
  },
  {
   "cell_type": "markdown",
   "id": "8657d5ac",
   "metadata": {},
   "source": [
    "#### LTV"
   ]
  },
  {
   "cell_type": "code",
   "execution_count": 50,
   "id": "61d51fe7",
   "metadata": {},
   "outputs": [
    {
     "data": {
      "image/png": "[encoded data removed]",
      "text/plain": [
       "<Figure size 432x288 with 1 Axes>"
      ]
     },
     "metadata": {
      "needs_background": "light"
     },
     "output_type": "display_data"
    }
   ],
   "source": [
    "plt.hist(df['ltv'].loc[df[y_var] == 1].dropna())\n",
    "plt.show()"
   ]
  },
  {
   "cell_type": "code",
   "execution_count": 35,
   "id": "6005dc80",
   "metadata": {},
   "outputs": [
    {
     "name": "stdout",
     "output_type": "stream",
     "text": [
      "Optimization terminated successfully.\n",
      "         Current function value: 0.141921\n",
      "         Iterations 7\n"
     ]
    },
    {
     "data": {
      "text/plain": [
       "array([-0.0513596])"
      ]
     },
     "execution_count": 35,
     "metadata": {},
     "output_type": "execute_result"
    }
   ],
   "source": [
    "lr_ltv = sm.Logit(y.values.reshape(-1,1), X['ltv'].values.reshape(-1,1))\n",
    "result_ltv=lr_ltv.fit()\n",
    "result_ltv.params"
   ]
  },
  {
   "cell_type": "markdown",
   "id": "3c21a59d",
   "metadata": {},
   "source": [
    "#### fico"
   ]
  },
  {
   "cell_type": "code",
   "execution_count": 51,
   "id": "8e3c0e8e",
   "metadata": {},
   "outputs": [
    {
     "data": {
      "image/png": "[encoded data removed]",
      "text/plain": [
       "<Figure size 432x288 with 1 Axes>"
      ]
     },
     "metadata": {
      "needs_background": "light"
     },
     "output_type": "display_data"
    }
   ],
   "source": [
    "plt.hist(df['fico_bucket'].loc[df[y_var] == 1].dropna())\n",
    "plt.show()"
   ]
  },
  {
   "cell_type": "code",
   "execution_count": 19,
   "id": "fe20ebd5",
   "metadata": {},
   "outputs": [
    {
     "name": "stdout",
     "output_type": "stream",
     "text": [
      "0.03644883414237212\n",
      "0.029104883100111032\n",
      "0.0274969994301305\n",
      "0.028920625488572806\n"
     ]
    }
   ],
   "source": [
    "for i in range(1,5):\n",
    "    print(len(df[(df['fico_bucket'] == i) & (df[y_var]) == 1]) / len(df[(df['fico_bucket'] == i)]))"
   ]
  },
  {
   "cell_type": "code",
   "execution_count": 18,
   "id": "49dead94",
   "metadata": {},
   "outputs": [
    {
     "name": "stdout",
     "output_type": "stream",
     "text": [
      "0.9635511658576279\n",
      "0.9708951168998889\n",
      "0.9725030005698695\n",
      "0.9710793745114272\n"
     ]
    }
   ],
   "source": [
    "for i in range(1,5):\n",
    "    print(len(df[(df['fico_bucket'] == i) & (df[y_var] == 0)]) / len(df[(df['fico_bucket'] == i)]))"
   ]
  },
  {
   "cell_type": "code",
   "execution_count": null,
   "id": "a38cebb2",
   "metadata": {},
   "outputs": [],
   "source": [
    "lr_fico = sm.Logit(df[y_var], df['fico_bucket'])\n",
    "result_fico=lr_fico.fit()\n",
    "result_fico.params"
   ]
  },
  {
   "cell_type": "code",
   "execution_count": 32,
   "id": "fc5dd52f",
   "metadata": {},
   "outputs": [
    {
     "data": {
      "text/plain": [
       "0.028731807317878864"
      ]
     },
     "execution_count": 32,
     "metadata": {},
     "output_type": "execute_result"
    }
   ],
   "source": [
    "df[y_var].sum()/len(df)"
   ]
  },
  {
   "cell_type": "code",
   "execution_count": 59,
   "id": "c5a1a0b4",
   "metadata": {},
   "outputs": [
    {
     "name": "stdout",
     "output_type": "stream",
     "text": [
      "0.05490743089018514\n",
      "0.15622622368754754\n",
      "0.3650773522698453\n",
      "0.423788993152422\n"
     ]
    }
   ],
   "source": [
    "for i in range(1,5):\n",
    "    print(len(df[(df['fico_bucket'] == i) & (df[y_var] == 1)]) / len(df[df[y_var] == 1]))\n"
   ]
  },
  {
   "cell_type": "code",
   "execution_count": 60,
   "id": "abc776ee",
   "metadata": {},
   "outputs": [
    {
     "name": "stdout",
     "output_type": "stream",
     "text": [
      "0.04293841825570491\n",
      "0.15416442638324476\n",
      "0.38195686151922476\n",
      "0.4209402938418256\n"
     ]
    }
   ],
   "source": [
    "for i in range(1,5):\n",
    "    print(len(df[(df['fico_bucket'] == i) & (df[y_var] == 0)]) / len(df[df[y_var] == 0]))\n"
   ]
  },
  {
   "cell_type": "code",
   "execution_count": 64,
   "id": "d71120cc",
   "metadata": {},
   "outputs": [
    {
     "name": "stdout",
     "output_type": "stream",
     "text": [
      "doc_type_BankSt 0.24368078451263844\n",
      "doc_type_Foreign 0.00033815199932369603\n",
      "doc_type_Full 0.5844111928311776\n",
      "doc_type_Investor 0.09645785780708428\n"
     ]
    }
   ],
   "source": [
    "for i in doc_Type:\n",
    "    print(i,df[i].loc[df[y_var] == 1].sum() / len(df[df[y_var] == 1]))"
   ]
  },
  {
   "cell_type": "code",
   "execution_count": 63,
   "id": "bc13b935",
   "metadata": {},
   "outputs": [
    {
     "name": "stdout",
     "output_type": "stream",
     "text": [
      "doc_type_BankSt 0.2686239449828071\n",
      "doc_type_Foreign 0.0008990309471709909\n",
      "doc_type_Full 0.4770665833072835\n",
      "doc_type_Investor 0.14881150359487338\n"
     ]
    }
   ],
   "source": [
    "for i in doc_Type:\n",
    "    print(i,df[i].loc[df[y_var] == 0].sum() / len(df[df[y_var] == 0]))"
   ]
  },
  {
   "cell_type": "code",
   "execution_count": 42,
   "id": "db89feb6",
   "metadata": {},
   "outputs": [
    {
     "data": {
      "text/html": [
       "<div>\n",
       "<style scoped>\n",
       "    .dataframe tbody tr th:only-of-type {\n",
       "        vertical-align: middle;\n",
       "    }\n",
       "\n",
       "    .dataframe tbody tr th {\n",
       "        vertical-align: top;\n",
       "    }\n",
       "\n",
       "    .dataframe thead th {\n",
       "        text-align: right;\n",
       "    }\n",
       "</style>\n",
       "<table border=\"1\" class=\"dataframe\">\n",
       "  <thead>\n",
       "    <tr style=\"text-align: right;\">\n",
       "      <th></th>\n",
       "      <th>fico_bucket_1.0</th>\n",
       "      <th>fico_bucket_2.0</th>\n",
       "      <th>fico_bucket_3.0</th>\n",
       "      <th>fico_bucket_4.0</th>\n",
       "    </tr>\n",
       "  </thead>\n",
       "  <tbody>\n",
       "    <tr>\n",
       "      <th>0</th>\n",
       "      <td>0.0</td>\n",
       "      <td>0.0</td>\n",
       "      <td>0.0</td>\n",
       "      <td>1.0</td>\n",
       "    </tr>\n",
       "    <tr>\n",
       "      <th>1</th>\n",
       "      <td>0.0</td>\n",
       "      <td>1.0</td>\n",
       "      <td>0.0</td>\n",
       "      <td>0.0</td>\n",
       "    </tr>\n",
       "    <tr>\n",
       "      <th>2</th>\n",
       "      <td>0.0</td>\n",
       "      <td>0.0</td>\n",
       "      <td>0.0</td>\n",
       "      <td>1.0</td>\n",
       "    </tr>\n",
       "    <tr>\n",
       "      <th>3</th>\n",
       "      <td>0.0</td>\n",
       "      <td>0.0</td>\n",
       "      <td>1.0</td>\n",
       "      <td>0.0</td>\n",
       "    </tr>\n",
       "    <tr>\n",
       "      <th>4</th>\n",
       "      <td>0.0</td>\n",
       "      <td>0.0</td>\n",
       "      <td>1.0</td>\n",
       "      <td>0.0</td>\n",
       "    </tr>\n",
       "    <tr>\n",
       "      <th>...</th>\n",
       "      <td>...</td>\n",
       "      <td>...</td>\n",
       "      <td>...</td>\n",
       "      <td>...</td>\n",
       "    </tr>\n",
       "    <tr>\n",
       "      <th>823403</th>\n",
       "      <td>0.0</td>\n",
       "      <td>1.0</td>\n",
       "      <td>0.0</td>\n",
       "      <td>0.0</td>\n",
       "    </tr>\n",
       "    <tr>\n",
       "      <th>823404</th>\n",
       "      <td>0.0</td>\n",
       "      <td>1.0</td>\n",
       "      <td>0.0</td>\n",
       "      <td>0.0</td>\n",
       "    </tr>\n",
       "    <tr>\n",
       "      <th>823405</th>\n",
       "      <td>0.0</td>\n",
       "      <td>0.0</td>\n",
       "      <td>1.0</td>\n",
       "      <td>0.0</td>\n",
       "    </tr>\n",
       "    <tr>\n",
       "      <th>823406</th>\n",
       "      <td>0.0</td>\n",
       "      <td>0.0</td>\n",
       "      <td>0.0</td>\n",
       "      <td>1.0</td>\n",
       "    </tr>\n",
       "    <tr>\n",
       "      <th>823407</th>\n",
       "      <td>0.0</td>\n",
       "      <td>0.0</td>\n",
       "      <td>0.0</td>\n",
       "      <td>1.0</td>\n",
       "    </tr>\n",
       "  </tbody>\n",
       "</table>\n",
       "<p>823408 rows × 4 columns</p>\n",
       "</div>"
      ],
      "text/plain": [
       "        fico_bucket_1.0  fico_bucket_2.0  fico_bucket_3.0  fico_bucket_4.0\n",
       "0                   0.0              0.0              0.0              1.0\n",
       "1                   0.0              1.0              0.0              0.0\n",
       "2                   0.0              0.0              0.0              1.0\n",
       "3                   0.0              0.0              1.0              0.0\n",
       "4                   0.0              0.0              1.0              0.0\n",
       "...                 ...              ...              ...              ...\n",
       "823403              0.0              1.0              0.0              0.0\n",
       "823404              0.0              1.0              0.0              0.0\n",
       "823405              0.0              0.0              1.0              0.0\n",
       "823406              0.0              0.0              0.0              1.0\n",
       "823407              0.0              0.0              0.0              1.0\n",
       "\n",
       "[823408 rows x 4 columns]"
      ]
     },
     "execution_count": 42,
     "metadata": {},
     "output_type": "execute_result"
    }
   ],
   "source": [
    "from sklearn.preprocessing import OneHotEncoder\n",
    "onehotenc = OneHotEncoder()\n",
    "onehotencoded_fico = pd.DataFrame(onehotenc.fit_transform(np.reshape(df['fico_bucket'].values,(-1,1))).toarray())\n",
    "onehotencoded_fico.columns = onehotenc.get_feature_names(['fico_bucket'])\n",
    "onehotencoded_fico"
   ]
  },
  {
   "cell_type": "code",
   "execution_count": 43,
   "id": "b153cf31",
   "metadata": {},
   "outputs": [
    {
     "data": {
      "text/plain": [
       "0         4.0\n",
       "1         2.0\n",
       "2         4.0\n",
       "3         3.0\n",
       "4         3.0\n",
       "         ... \n",
       "823403    2.0\n",
       "823404    2.0\n",
       "823405    3.0\n",
       "823406    4.0\n",
       "823407    4.0\n",
       "Name: fico_bucket, Length: 823408, dtype: float64"
      ]
     },
     "execution_count": 43,
     "metadata": {},
     "output_type": "execute_result"
    }
   ],
   "source": [
    "df['fico_bucket']"
   ]
  },
  {
   "cell_type": "code",
   "execution_count": 32,
   "id": "0b60ef09",
   "metadata": {},
   "outputs": [
    {
     "data": {
      "text/plain": [
       "0.028731807317878864"
      ]
     },
     "execution_count": 32,
     "metadata": {},
     "output_type": "execute_result"
    }
   ],
   "source": [
    "df[y_var].sum()/len(df)"
   ]
  },
  {
   "cell_type": "code",
   "execution_count": 68,
   "id": "59732432",
   "metadata": {},
   "outputs": [
    {
     "name": "stdout",
     "output_type": "stream",
     "text": [
      "Optimization terminated successfully.\n",
      "         Current function value: 0.366941\n",
      "         Iterations 8\n"
     ]
    },
    {
     "data": {
      "text/plain": [
       "fico_bucket_1.0   -3.274716\n",
       "fico_bucket_2.0   -3.507312\n",
       "fico_bucket_3.0   -3.565796\n",
       "dtype: float64"
      ]
     },
     "execution_count": 68,
     "metadata": {},
     "output_type": "execute_result"
    }
   ],
   "source": [
    "lr_fico_ohe_2 = sm.Logit(df[y_var], onehotencoded_fico[['fico_bucket_1.0', 'fico_bucket_2.0', 'fico_bucket_3.0']])\n",
    "result_fico_ohe_2=lr_fico_ohe_2.fit()\n",
    "result_fico_ohe_2.params"
   ]
  },
  {
   "cell_type": "code",
   "execution_count": 71,
   "id": "be525946",
   "metadata": {},
   "outputs": [
    {
     "name": "stdout",
     "output_type": "stream",
     "text": [
      "fico_bucket_1.0 0.0364488341423722\n",
      "fico_bucket_2.0 0.029104883100111386\n",
      "fico_bucket_3.0 0.027496999430130446\n"
     ]
    }
   ],
   "source": [
    "for i,v in result_fico_ohe_2.params.items():\n",
    "    print(i, 1/(1 + np.exp(-v)))"
   ]
  },
  {
   "cell_type": "code",
   "execution_count": 69,
   "id": "9d661c70",
   "metadata": {},
   "outputs": [
    {
     "data": {
      "text/plain": [
       "array([ 0.23911608,  0.00653956, -0.05194353])"
      ]
     },
     "execution_count": 69,
     "metadata": {},
     "output_type": "execute_result"
    }
   ],
   "source": [
    "lr_fico = LogisticRegression(class_weight='balanced')\n",
    "lr_fico.fit(onehotencoded_fico[['fico_bucket_1.0', 'fico_bucket_2.0', 'fico_bucket_3.0']], df[y_var])\n",
    "lr_fico.coef_[0]"
   ]
  },
  {
   "cell_type": "code",
   "execution_count": 33,
   "id": "5ca4f314",
   "metadata": {},
   "outputs": [
    {
     "name": "stdout",
     "output_type": "stream",
     "text": [
      "('doc_type_BankSt', 0.5576646569311879)\n",
      "('doc_type_Foreign', 0.36726522102924114)\n",
      "('doc_type_Full', 0.6323968630580644)\n",
      "('doc_type_Investor', 0.4756588324003306)\n"
     ]
    }
   ],
   "source": [
    "for i in zip([i for i in X_train.columns if 'doc' in i],[np.exp(x)/(1 + np.exp(x)) for x in lr_doc.coef_[0]]):\n",
    "    print(i)"
   ]
  },
  {
   "cell_type": "code",
   "execution_count": 73,
   "id": "f069a0bb",
   "metadata": {},
   "outputs": [
    {
     "name": "stdout",
     "output_type": "stream",
     "text": [
      "('fico_bucket_1.0', 0.5538201244209376)\n",
      "('fico_bucket_2.0', 0.4936835881158554)\n",
      "('fico_bucket_3.0', 0.47579499074722265)\n",
      "('fico_bucket_4.0', 0.48866516431144164)\n"
     ]
    }
   ],
   "source": [
    "lrr = LogisticRegression(class_weight='balanced')\n",
    "lrr.fit(onehotencoded_fico, y_train)\n",
    "for i in zip(onehotencoded_fico.columns, [1/(1 + np.exp(-x)) for x in lrr.coef_[0]]):\n",
    "    print(i)"
   ]
  },
  {
   "cell_type": "code",
   "execution_count": 75,
   "id": "a32fdd3e",
   "metadata": {},
   "outputs": [
    {
     "data": {
      "text/html": [
       "<div>\n",
       "<style scoped>\n",
       "    .dataframe tbody tr th:only-of-type {\n",
       "        vertical-align: middle;\n",
       "    }\n",
       "\n",
       "    .dataframe tbody tr th {\n",
       "        vertical-align: top;\n",
       "    }\n",
       "\n",
       "    .dataframe thead th {\n",
       "        text-align: right;\n",
       "    }\n",
       "</style>\n",
       "<table border=\"1\" class=\"dataframe\">\n",
       "  <thead>\n",
       "    <tr style=\"text-align: right;\">\n",
       "      <th></th>\n",
       "      <th>fico_bucket_1.0</th>\n",
       "      <th>fico_bucket_2.0</th>\n",
       "      <th>fico_bucket_3.0</th>\n",
       "      <th>fico_bucket_4.0</th>\n",
       "    </tr>\n",
       "  </thead>\n",
       "  <tbody>\n",
       "    <tr>\n",
       "      <th>0</th>\n",
       "      <td>0.0</td>\n",
       "      <td>0.0</td>\n",
       "      <td>0.0</td>\n",
       "      <td>1.0</td>\n",
       "    </tr>\n",
       "    <tr>\n",
       "      <th>1</th>\n",
       "      <td>0.0</td>\n",
       "      <td>1.0</td>\n",
       "      <td>0.0</td>\n",
       "      <td>0.0</td>\n",
       "    </tr>\n",
       "    <tr>\n",
       "      <th>2</th>\n",
       "      <td>0.0</td>\n",
       "      <td>1.0</td>\n",
       "      <td>0.0</td>\n",
       "      <td>0.0</td>\n",
       "    </tr>\n",
       "    <tr>\n",
       "      <th>3</th>\n",
       "      <td>0.0</td>\n",
       "      <td>1.0</td>\n",
       "      <td>0.0</td>\n",
       "      <td>0.0</td>\n",
       "    </tr>\n",
       "    <tr>\n",
       "      <th>4</th>\n",
       "      <td>0.0</td>\n",
       "      <td>0.0</td>\n",
       "      <td>1.0</td>\n",
       "      <td>0.0</td>\n",
       "    </tr>\n",
       "  </tbody>\n",
       "</table>\n",
       "</div>"
      ],
      "text/plain": [
       "   fico_bucket_1.0  fico_bucket_2.0  fico_bucket_3.0  fico_bucket_4.0\n",
       "0              0.0              0.0              0.0              1.0\n",
       "1              0.0              1.0              0.0              0.0\n",
       "2              0.0              1.0              0.0              0.0\n",
       "3              0.0              1.0              0.0              0.0\n",
       "4              0.0              0.0              1.0              0.0"
      ]
     },
     "execution_count": 75,
     "metadata": {},
     "output_type": "execute_result"
    }
   ],
   "source": [
    "onehotencoded_fico.head()"
   ]
  },
  {
   "cell_type": "code",
   "execution_count": 74,
   "id": "5290fcc6",
   "metadata": {},
   "outputs": [
    {
     "data": {
      "text/plain": [
       "Index(['fico_bucket_1.0', 'fico_bucket_2.0', 'fico_bucket_3.0', 'fico_bucket_4.0'], dtype='object')"
      ]
     },
     "execution_count": 74,
     "metadata": {},
     "output_type": "execute_result"
    }
   ],
   "source": [
    "onehotencoded_fico.columns"
   ]
  },
  {
   "cell_type": "code",
   "execution_count": 77,
   "id": "32e4c7e1",
   "metadata": {},
   "outputs": [
    {
     "name": "stdout",
     "output_type": "stream",
     "text": [
      "Optimization terminated successfully.\n",
      "         Current function value: 0.130549\n",
      "         Iterations 8\n",
      "                          Results: Logit\n",
      "==================================================================\n",
      "Model:              Logit            Pseudo R-squared: 0.000      \n",
      "Dependent Variable: y                AIC:              144051.8449\n",
      "Date:               2021-11-01 00:35 BIC:              144096.7278\n",
      "No. Observations:   551683           Log-Likelihood:   -72022.    \n",
      "Df Model:           3                LL-Null:          -72057.    \n",
      "Df Residuals:       551679           LLR p-value:      4.2390e-15 \n",
      "Converged:          1.0000           Scale:            1.0000     \n",
      "No. Iterations:     8.0000                                        \n",
      "------------------------------------------------------------------\n",
      "                  Coef.  Std.Err.     z     P>|z|   [0.025  0.975]\n",
      "------------------------------------------------------------------\n",
      "fico_bucket_1.0  -3.2527   0.0342  -95.1072 0.0000 -3.3197 -3.1857\n",
      "fico_bucket_2.0  -3.4941   0.0203 -172.4214 0.0000 -3.5338 -3.4544\n",
      "fico_bucket_3.0  -3.5658   0.0133 -267.5462 0.0000 -3.5919 -3.5396\n",
      "fico_bucket_4.0  -3.5142   0.0124 -283.7366 0.0000 -3.5385 -3.4899\n",
      "==================================================================\n",
      "\n"
     ]
    }
   ],
   "source": [
    "logit_model=sm.Logit(y_train.values.reshape(-1,1),onehotencoded_fico)\n",
    "result=logit_model.fit()\n",
    "print(result.summary2())"
   ]
  },
  {
   "cell_type": "code",
   "execution_count": 89,
   "id": "a9e67a3c",
   "metadata": {},
   "outputs": [
    {
     "name": "stdout",
     "output_type": "stream",
     "text": [
      "fico_bucket_1.0 0.03722958242495372\n",
      "fico_bucket_2.0 0.02947984349481278\n",
      "fico_bucket_3.0 0.027498052478576784\n",
      "fico_bucket_4.0 0.02891067106521142\n"
     ]
    }
   ],
   "source": [
    "for i,v in result.params.items():\n",
    "    print(i, 1/(1 + np.exp(-v)))"
   ]
  },
  {
   "cell_type": "code",
   "execution_count": 93,
   "id": "36321b24",
   "metadata": {},
   "outputs": [
    {
     "name": "stdout",
     "output_type": "stream",
     "text": [
      "Optimization terminated successfully.\n",
      "         Current function value: 0.191169\n",
      "         Iterations 8\n",
      "                          Results: Logit\n",
      "===================================================================\n",
      "Model:               Logit            Pseudo R-squared: -0.464     \n",
      "Dependent Variable:  y                AIC:              210937.6521\n",
      "Date:                2021-11-01 00:42 BIC:              210982.5351\n",
      "No. Observations:    551683           Log-Likelihood:   -1.0546e+05\n",
      "Df Model:            3                LL-Null:          -72057.    \n",
      "Df Residuals:        551679           LLR p-value:      1.0000     \n",
      "Converged:           1.0000           Scale:            1.0000     \n",
      "No. Iterations:      8.0000                                        \n",
      "-------------------------------------------------------------------\n",
      "                   Coef.  Std.Err.     z     P>|z|   [0.025  0.975]\n",
      "-------------------------------------------------------------------\n",
      "doc_type_BankSt   -3.6218   0.0163 -221.7519 0.0000 -3.6538 -3.5898\n",
      "doc_type_Foreign  -4.4047   0.4107  -10.7239 0.0000 -5.2097 -3.5997\n",
      "doc_type_Full     -3.3110   0.0105 -313.9818 0.0000 -3.3316 -3.2903\n",
      "doc_type_Investor -3.9509   0.0258 -153.3755 0.0000 -4.0014 -3.9004\n",
      "===================================================================\n",
      "\n"
     ]
    }
   ],
   "source": [
    "logit_model_doc=sm.Logit(y_train.values.reshape(-1,1),X_train[doc_Type])\n",
    "result_doc=logit_model_doc.fit()\n",
    "print(result_doc.summary2())"
   ]
  },
  {
   "cell_type": "code",
   "execution_count": 94,
   "id": "7e2d6ea4",
   "metadata": {},
   "outputs": [
    {
     "name": "stdout",
     "output_type": "stream",
     "text": [
      "doc_type_BankSt 0.026038777415470126\n",
      "doc_type_Foreign 0.012072434607645692\n",
      "doc_type_Full 0.03519709390800548\n",
      "doc_type_Investor 0.018873952471062758\n"
     ]
    }
   ],
   "source": [
    "for i,v in result_doc.params.items():\n",
    "    print(i, 1/(1 + np.exp(-v)))"
   ]
  },
  {
   "cell_type": "code",
   "execution_count": 37,
   "id": "547a7550",
   "metadata": {},
   "outputs": [
    {
     "data": {
      "text/plain": [
       "[0.5002007788745044]"
      ]
     },
     "execution_count": 37,
     "metadata": {},
     "output_type": "execute_result"
    }
   ],
   "source": [
    "[1/(1 + np.exp(-x)) for x in lr_wala.coef_[0]]"
   ]
  },
  {
   "cell_type": "code",
   "execution_count": 12,
   "id": "90b96572",
   "metadata": {},
   "outputs": [
    {
     "data": {
      "text/plain": [
       "RangeIndex(start=0, stop=4, step=1)"
      ]
     },
     "execution_count": 12,
     "metadata": {},
     "output_type": "execute_result"
    }
   ],
   "source": [
    "onehotencoded_fico.columns"
   ]
  },
  {
   "cell_type": "code",
   "execution_count": 26,
   "id": "090120f9",
   "metadata": {},
   "outputs": [
    {
     "data": {
      "text/plain": [
       "array([4., 2., 3., 1.])"
      ]
     },
     "execution_count": 26,
     "metadata": {},
     "output_type": "execute_result"
    }
   ],
   "source": [
    "X_train['fico_bucket'].unique()"
   ]
  },
  {
   "cell_type": "code",
   "execution_count": 25,
   "id": "e4a87f1e",
   "metadata": {},
   "outputs": [
    {
     "data": {
      "text/plain": [
       "Int64Index([1, 2, 3], dtype='int64')"
      ]
     },
     "execution_count": 25,
     "metadata": {},
     "output_type": "execute_result"
    }
   ],
   "source": [
    "onehotencoded_fico.columns"
   ]
  },
  {
   "cell_type": "code",
   "execution_count": 13,
   "id": "39e52dfc",
   "metadata": {},
   "outputs": [
    {
     "data": {
      "text/plain": [
       "array([0.00080312])"
      ]
     },
     "execution_count": 13,
     "metadata": {},
     "output_type": "execute_result"
    }
   ],
   "source": [
    "lr_wala.coef_[0]"
   ]
  },
  {
   "cell_type": "code",
   "execution_count": 46,
   "id": "792948a1",
   "metadata": {},
   "outputs": [
    {
     "name": "stdout",
     "output_type": "stream",
     "text": [
      "doc_type\n"
     ]
    },
    {
     "data": {
      "image/png": "[encoded data removed]",
      "text/plain": [
       "<Figure size 432x288 with 2 Axes>"
      ]
     },
     "metadata": {
      "needs_background": "light"
     },
     "output_type": "display_data"
    },
    {
     "data": {
      "image/png": "[encoded data removed]",
      "text/plain": [
       "<Figure size 432x288 with 1 Axes>"
      ]
     },
     "metadata": {
      "needs_background": "light"
     },
     "output_type": "display_data"
    },
    {
     "name": "stdout",
     "output_type": "stream",
     "text": [
      "is_prepay AUC score:  0.5604482763994519\n",
      "\n",
      "fico_bucket\n"
     ]
    },
    {
     "data": {
      "image/png": "[encoded data removed]",
      "text/plain": [
       "<Figure size 432x288 with 2 Axes>"
      ]
     },
     "metadata": {
      "needs_background": "light"
     },
     "output_type": "display_data"
    },
    {
     "data": {
      "image/png": "[encoded data removed]",
      "text/plain": [
       "<Figure size 432x288 with 1 Axes>"
      ]
     },
     "metadata": {
      "needs_background": "light"
     },
     "output_type": "display_data"
    },
    {
     "name": "stdout",
     "output_type": "stream",
     "text": [
      "is_prepay AUC score:  0.5009496864994496\n",
      "\n",
      "wala\n"
     ]
    },
    {
     "data": {
      "image/png": "[encoded data removed]",
      "text/plain": [
       "<Figure size 432x288 with 2 Axes>"
      ]
     },
     "metadata": {
      "needs_background": "light"
     },
     "output_type": "display_data"
    },
    {
     "data": {
      "image/png": "[encoded data removed]",
      "text/plain": [
       "<Figure size 432x288 with 1 Axes>"
      ]
     },
     "metadata": {
      "needs_background": "light"
     },
     "output_type": "display_data"
    },
    {
     "name": "stdout",
     "output_type": "stream",
     "text": [
      "is_prepay AUC score:  0.5435679184282031\n",
      "\n",
      "ltv\n"
     ]
    },
    {
     "data": {
      "image/png": "[encoded data removed]",
      "text/plain": [
       "<Figure size 432x288 with 2 Axes>"
      ]
     },
     "metadata": {
      "needs_background": "light"
     },
     "output_type": "display_data"
    },
    {
     "data": {
      "image/png": "[encoded data removed]",
      "text/plain": [
       "<Figure size 432x288 with 1 Axes>"
      ]
     },
     "metadata": {
      "needs_background": "light"
     },
     "output_type": "display_data"
    },
    {
     "name": "stdout",
     "output_type": "stream",
     "text": [
      "is_prepay AUC score:  0.5391081998508915\n",
      "\n"
     ]
    }
   ],
   "source": [
    "orig_features = [lr_doc,lr_fico, lr_wala,lr_ltv]\n",
    "orig_names = ['doc_type', 'fico_bucket', 'wala', 'ltv']\n",
    "for i in zip(orig_features, orig_names):\n",
    "    \n",
    "    if i[1] == 'doc_type':\n",
    "        print(i[1])\n",
    "        plot_confusion_matrix(i[0], X_test[doc_Type], y_test)\n",
    "        plt.show()\n",
    "        plot_roc(i[0], X_test[doc_Type], y_test, y_var)\n",
    "        plt.show()\n",
    "        print()\n",
    "    else:\n",
    "        print(i[1])\n",
    "        plot_confusion_matrix(i[0], np.reshape(X_test[i[1]].values,(-1,1)), y_test)\n",
    "        plt.show()\n",
    "        plot_roc(i[0], np.reshape(X_test[i[1]].values,(-1,1)), y_test,y_var)\n",
    "        plt.show()\n",
    "        print()"
   ]
  },
  {
   "cell_type": "code",
   "execution_count": 47,
   "id": "63168304",
   "metadata": {},
   "outputs": [
    {
     "data": {
      "text/plain": [
       "['fico_bucket',\n",
       " 'wala',\n",
       " 'ltv',\n",
       " 'doc_type_BankSt',\n",
       " 'doc_type_Foreign',\n",
       " 'doc_type_Full',\n",
       " 'doc_type_Investor']"
      ]
     },
     "execution_count": 47,
     "metadata": {},
     "output_type": "execute_result"
    }
   ],
   "source": [
    "# Get columns\n",
    "orig_names.extend(doc_Type)\n",
    "orig_names.remove('doc_type')\n",
    "orig_names"
   ]
  },
  {
   "cell_type": "code",
   "execution_count": 48,
   "id": "6fa434b9",
   "metadata": {},
   "outputs": [
    {
     "data": {
      "text/plain": [
       "0.5150317416505659"
      ]
     },
     "execution_count": 48,
     "metadata": {},
     "output_type": "execute_result"
    }
   ],
   "source": [
    "lr_orig = LogisticRegression(class_weight='balanced')\n",
    "lr_orig.fit(X_train[orig_names], y_train)\n",
    "lr_orig.score(X_test[orig_names], y_test)"
   ]
  },
  {
   "cell_type": "code",
   "execution_count": 51,
   "id": "8b4b34b8",
   "metadata": {},
   "outputs": [
    {
     "name": "stdout",
     "output_type": "stream",
     "text": [
      "('fico_bucket', -0.028274300455313962)\n",
      "('wala', 0.003890825414018524)\n",
      "('ltv', 0.005207895098245668)\n",
      "('doc_type_BankSt', 0.2804928218547337)\n",
      "('doc_type_Foreign', -0.04580878748645193)\n",
      "('doc_type_Full', 0.5995257922792044)\n",
      "('doc_type_Investor', -0.0055581543143855775)\n"
     ]
    }
   ],
   "source": [
    "for i in zip(orig_names,lr_orig.coef_[0]):\n",
    "    print(i)"
   ]
  },
  {
   "cell_type": "code",
   "execution_count": 23,
   "id": "36e7c3ef",
   "metadata": {},
   "outputs": [
    {
     "data": {
      "text/plain": [
       "array([3., 4., 2., 1.])"
      ]
     },
     "execution_count": 23,
     "metadata": {},
     "output_type": "execute_result"
    }
   ],
   "source": [
    "X_train.fico_bucket.unique()"
   ]
  },
  {
   "cell_type": "code",
   "execution_count": 11,
   "id": "34c4ba34",
   "metadata": {},
   "outputs": [
    {
     "data": {
      "text/plain": [
       "<sklearn.metrics._plot.confusion_matrix.ConfusionMatrixDisplay at 0x13a721e0550>"
      ]
     },
     "execution_count": 11,
     "metadata": {},
     "output_type": "execute_result"
    },
    {
     "data": {
      "image/png": "[encoded data removed]",
      "text/plain": [
       "<Figure size 432x288 with 2 Axes>"
      ]
     },
     "metadata": {
      "needs_background": "light"
     },
     "output_type": "display_data"
    }
   ],
   "source": [
    "plot_confusion_matrix(lr_orig, X_test[orig_names], y_test)"
   ]
  },
  {
   "cell_type": "code",
   "execution_count": 12,
   "id": "a6b81697",
   "metadata": {},
   "outputs": [
    {
     "data": {
      "image/png": "[encoded data removed]",
      "text/plain": [
       "<Figure size 432x288 with 1 Axes>"
      ]
     },
     "metadata": {
      "needs_background": "light"
     },
     "output_type": "display_data"
    },
    {
     "name": "stdout",
     "output_type": "stream",
     "text": [
      "is_prepay AUC score:  0.5741520346311761\n"
     ]
    }
   ],
   "source": [
    "plot_roc(lr_orig, X_test[orig_names], y_test, y_var)"
   ]
  },
  {
   "cell_type": "code",
   "execution_count": 13,
   "id": "3f22c713",
   "metadata": {},
   "outputs": [
    {
     "data": {
      "text/plain": [
       "RandomForestClassifier(class_weight='balanced')"
      ]
     },
     "execution_count": 13,
     "metadata": {},
     "output_type": "execute_result"
    }
   ],
   "source": [
    "rf_balanced = RandomForestClassifier(class_weight='balanced')\n",
    "rf_balanced.fit(X_train, y_train)"
   ]
  },
  {
   "cell_type": "code",
   "execution_count": 14,
   "id": "c6f36798",
   "metadata": {},
   "outputs": [
    {
     "data": {
      "text/plain": [
       "0.971488110448481"
      ]
     },
     "execution_count": 14,
     "metadata": {},
     "output_type": "execute_result"
    }
   ],
   "source": [
    "rf_balanced.score(X_test, y_test)"
   ]
  },
  {
   "cell_type": "code",
   "execution_count": 15,
   "id": "959d7728",
   "metadata": {
    "collapsed": true
   },
   "outputs": [
    {
     "data": {
      "text/plain": [
       "'              precision    recall  f1-score   support\\n\\n           0       0.97      1.00      0.99    269941\\n           1       0.40      0.00      0.01      7908\\n\\n    accuracy                           0.97    277849\\n   macro avg       0.69      0.50      0.50    277849\\nweighted avg       0.96      0.97      0.96    277849\\n'"
      ]
     },
     "execution_count": 15,
     "metadata": {},
     "output_type": "execute_result"
    }
   ],
   "source": [
    "y_pred = rf_balanced.predict(X_test)\n",
    "sklearn.metrics.classification_report(y_test, y_pred)"
   ]
  },
  {
   "cell_type": "code",
   "execution_count": 16,
   "id": "6cdcb927",
   "metadata": {},
   "outputs": [
    {
     "name": "stdout",
     "output_type": "stream",
     "text": [
      "              precision    recall  f1-score   support\n",
      "\n",
      "           0       0.97      1.00      0.99    269941\n",
      "           1       0.40      0.00      0.01      7908\n",
      "\n",
      "    accuracy                           0.97    277849\n",
      "   macro avg       0.69      0.50      0.50    277849\n",
      "weighted avg       0.96      0.97      0.96    277849\n",
      "\n"
     ]
    }
   ],
   "source": [
    "print(sklearn.metrics.classification_report(y_test, y_pred))"
   ]
  },
  {
   "cell_type": "code",
   "execution_count": 18,
   "id": "e1b7c004",
   "metadata": {},
   "outputs": [
    {
     "data": {
      "text/plain": [
       "<sklearn.metrics._plot.confusion_matrix.ConfusionMatrixDisplay at 0x13a721e03d0>"
      ]
     },
     "execution_count": 18,
     "metadata": {},
     "output_type": "execute_result"
    },
    {
     "data": {
      "image/png": "[encoded data removed]",
      "text/plain": [
       "<Figure size 432x288 with 2 Axes>"
      ]
     },
     "metadata": {
      "needs_background": "light"
     },
     "output_type": "display_data"
    }
   ],
   "source": [
    "plot_confusion_matrix(rf_balanced, X_test, y_test)"
   ]
  },
  {
   "cell_type": "code",
   "execution_count": 21,
   "id": "ac11552e",
   "metadata": {},
   "outputs": [
    {
     "data": {
      "text/plain": [
       "[('month_mod', 2.31e-05),\n",
       " ('cd_mstr_servicer_SPS', 6.67e-05),\n",
       " ('doc_type_Foreign', 0.00013),\n",
       " ('covid_flag_Y', 0.000168),\n",
       " ('cd_mstr_servicer_Wells Fargo', 0.00104),\n",
       " ('cd_mstr_servicer_Nationstar', 0.00173),\n",
       " ('doc_type_Investor', 0.00426),\n",
       " ('doc_type_BankSt', 0.00534),\n",
       " ('mba_prev', 0.00701),\n",
       " ('doc_type_Full', 0.00982),\n",
       " ('mba_prev2', 0.0102),\n",
       " ('purp_bucket_Refi', 0.011),\n",
       " ('occ_bucket_investor', 0.0117),\n",
       " ('mba_prev6', 0.0143),\n",
       " ('purp_bucket_Cash Out', 0.0161),\n",
       " ('cd_servicer', 0.0296),\n",
       " ('fico_bucket', 0.0354),\n",
       " ('geo', 0.0468),\n",
       " ('issuer', 0.0557),\n",
       " ('close_month', 0.059),\n",
       " ('factor_month', 0.0792),\n",
       " ('FEDFUNDS', 0.08),\n",
       " ('ltv', 0.105),\n",
       " ('init_rate', 0.117),\n",
       " ('wala', 0.135),\n",
       " ('close_bal', 0.164)]"
      ]
     },
     "execution_count": 21,
     "metadata": {},
     "output_type": "execute_result"
    }
   ],
   "source": [
    "importance = [round_sig(i) for i in rf_balanced.feature_importances_]\n",
    "feature_importance = list(zip(X_train.columns,importance))\n",
    "sorted(feature_importance, key = lambda x: x[1])"
   ]
  },
  {
   "cell_type": "code",
   "execution_count": null,
   "id": "87da48ec",
   "metadata": {},
   "outputs": [],
   "source": []
  }
 ],
 "metadata": {
  "kernelspec": {
   "display_name": "Python 3 (ipykernel)",
   "language": "python",
   "name": "python3"
  },
  "language_info": {
   "codemirror_mode": {
    "name": "ipython",
    "version": 3
   },
   "file_extension": ".py",
   "mimetype": "text/x-python",
   "name": "python",
   "nbconvert_exporter": "python",
   "pygments_lexer": "ipython3",
   "version": "3.9.2"
  }
 },
 "nbformat": 4,
 "nbformat_minor": 5
}
